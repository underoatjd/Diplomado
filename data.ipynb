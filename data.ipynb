{
 "cells": [
  {
   "cell_type": "code",
   "execution_count": 3,
   "metadata": {},
   "outputs": [
    {
     "name": "stdout",
     "output_type": "stream",
     "text": [
      "Collecting faker\n",
      "  Obtaining dependency information for faker from https://files.pythonhosted.org/packages/b5/e6/403ba67c3d0ab4b31030f2ff22428f7a0cfe2010ce4bf9579e1ebdf808fa/Faker-30.3.0-py3-none-any.whl.metadata\n",
      "  Downloading Faker-30.3.0-py3-none-any.whl.metadata (15 kB)\n",
      "Requirement already satisfied: python-dateutil>=2.4 in d:\\anaconda\\anaconda3\\lib\\site-packages (from faker) (2.8.2)\n",
      "Requirement already satisfied: typing-extensions in d:\\anaconda\\anaconda3\\lib\\site-packages (from faker) (4.7.1)\n",
      "Requirement already satisfied: six>=1.5 in d:\\anaconda\\anaconda3\\lib\\site-packages (from python-dateutil>=2.4->faker) (1.16.0)\n",
      "Downloading Faker-30.3.0-py3-none-any.whl (1.8 MB)\n",
      "   ---------------------------------------- 0.0/1.8 MB ? eta -:--:--\n",
      "   ---- ----------------------------------- 0.2/1.8 MB 6.7 MB/s eta 0:00:01\n",
      "   -------------------------------- ------- 1.5/1.8 MB 19.2 MB/s eta 0:00:01\n",
      "   ---------------------------------------- 1.8/1.8 MB 16.6 MB/s eta 0:00:00\n",
      "Installing collected packages: faker\n",
      "Successfully installed faker-30.3.0\n",
      "Note: you may need to restart the kernel to use updated packages.\n"
     ]
    }
   ],
   "source": [
    "pip install faker"
   ]
  },
  {
   "cell_type": "code",
   "execution_count": 5,
   "metadata": {},
   "outputs": [],
   "source": [
    "import pandas as pd\n",
    "import random\n",
    "from faker import Faker\n",
    "import numpy as np"
   ]
  },
  {
   "cell_type": "code",
   "execution_count": 6,
   "metadata": {},
   "outputs": [],
   "source": [
    "# Inicializar Faker para generar datos ficticios\n",
    "fake = Faker()\n",
    "\n",
    "# Número de filas\n",
    "num_rows = 5000"
   ]
  },
  {
   "cell_type": "code",
   "execution_count": 7,
   "metadata": {},
   "outputs": [],
   "source": [
    "# Generar datos aleatorios para cada columna\n",
    "data = {\n",
    "    \"Edad\": np.random.randint(1, 18, num_rows),\n",
    "    \"Fecha de nacimiento\": [fake.date_of_birth(minimum_age=1, maximum_age=18) for _ in range(num_rows)],\n",
    "    \"Sexo\": [random.choice([\"Masculino\", \"Femenino\", \"Otro\"]) for _ in range(num_rows)],\n",
    "    \"Lugar de residencia\": [fake.city() for _ in range(num_rows)],\n",
    "    \n",
    "    \"Composición del hogar\": [random.choice([\"Nuclear\", \"Monoparental\", \"Extendida\"]) for _ in range(num_rows)],\n",
    "    \"Grado de consanguinidad\": [random.choice([\"Padres\", \"Hermanos\", \"Tios\", \"Abuelos\", \"Otros familiares\"]) for _ in range(num_rows)],\n",
    "    \"Número de personas con quienes vive\": np.random.randint(1, 8, num_rows),\n",
    "    \"Profesión de los padres\": [random.choice([\"Profesor\",\"Profesional\", \"Obrero\", \"Desempleado\", \"Empresario\", \"Empleado público\"]) for _ in range(num_rows)],\n",
    "    \n",
    "    \"Nivel escolar\": [random.choice([\"Primaria\", \"Secundaria\", \"Técnico\", \"Universitario\"]) for _ in range(num_rows)],\n",
    "    \"Rendimiento académico promedio\": np.random.randint(1, 10, num_rows),\n",
    "    \"Antecedentes de maltrato familiar o escolar\": [random.choice([\"Sí\", \"No\"]) for _ in range(num_rows)],\n",
    "    \"Participa en actividades extracurriculares\": [random.choice([\"Sí\", \"No\"]) for _ in range(num_rows)],\n",
    "    \n",
    "    \"Usa redes sociales activamente\": [random.choice([\"Sí\", \"No\"]) for _ in range(num_rows)],\n",
    "    \"Contactó de forma inapropiada en redes\": [random.choice([\"Sí\", \"No\"]) for _ in range(num_rows)],\n",
    "    \n",
    "    \"Involucrado en otros incidentes de agresión\": [random.choice([\"Sí\", \"No\"]) for _ in range(num_rows)],\n",
    "    \"Conocía a la víctima\": [random.choice([\"Sí\", \"No\"]) for _ in range(num_rows)],\n",
    "    \"Antecedentes penales o disciplinarios\": [random.choice([\"Sí\", \"No\"]) for _ in range(num_rows)],\n",
    "    \n",
    "    \"Trastorno psicológico o adicción\": [random.choice([\"Sí\", \"No\"]) for _ in range(num_rows)],\n",
    "    \"Atención psicológica previa\": [random.choice([\"Sí\", \"No\"]) for _ in range(num_rows)],\n",
    "    \"Se siente arrepentido\": [random.choice([\"Sí\", \"No\"]) for _ in range(num_rows)],\n",
    "    \"Reconoce que su comportamiento fue incorrecto\": [random.choice([\"Sí\", \"No\"]) for _ in range(num_rows)],\n",
    "    \n",
    "    \"Premeditado o impulsivo\": [random.choice([\"Premeditado\", \"Impulsivo\"]) for _ in range(num_rows)],\n",
    "    \"Violencia física o amenazas\": [random.choice([\"Sí\", \"No\"]) for _ in range(num_rows)],\n",
    "    \"Actuó solo o con otras personas\": [random.choice([\"Solo\", \"Con otras personas\"]) for _ in range(num_rows)],\n",
    "    \n",
    "    \"Edad inicio consumo pornográfico\": np.random.randint(6, 15, num_rows),\n",
    "    \"Contenido violento o explícito en material\": [random.choice([\"Sí\", \"No\"]) for _ in range(num_rows)],\n",
    "}"
   ]
  },
  {
   "cell_type": "code",
   "execution_count": 8,
   "metadata": {},
   "outputs": [
    {
     "name": "stdout",
     "output_type": "stream",
     "text": [
      "   Edad Fecha de nacimiento       Sexo Lugar de residencia  \\\n",
      "0    14          2007-01-26   Femenino        South Rachel   \n",
      "1    16          2022-02-09   Femenino     South Juanville   \n",
      "2    13          2022-08-30   Femenino         Barnesville   \n",
      "3     4          2023-07-04  Masculino           Solisberg   \n",
      "4     9          2017-08-24  Masculino      South Jennifer   \n",
      "\n",
      "  Composición del hogar Grado de consanguinidad  \\\n",
      "0          Monoparental                    Tios   \n",
      "1          Monoparental        Otros familiares   \n",
      "2             Extendida        Otros familiares   \n",
      "3             Extendida        Otros familiares   \n",
      "4             Extendida                    Tios   \n",
      "\n",
      "   Número de personas con quienes vive Profesión de los padres  Nivel escolar  \\\n",
      "0                                    4             Desempleado     Secundaria   \n",
      "1                                    1                  Obrero        Técnico   \n",
      "2                                    6                Profesor  Universitario   \n",
      "3                                    1                Profesor     Secundaria   \n",
      "4                                    1              Empresario     Secundaria   \n",
      "\n",
      "   Rendimiento académico promedio  ... Antecedentes penales o disciplinarios  \\\n",
      "0                               5  ...                                    No   \n",
      "1                               8  ...                                    Sí   \n",
      "2                               4  ...                                    Sí   \n",
      "3                               1  ...                                    No   \n",
      "4                               3  ...                                    Sí   \n",
      "\n",
      "  Trastorno psicológico o adicción Atención psicológica previa  \\\n",
      "0                               Sí                          Sí   \n",
      "1                               No                          No   \n",
      "2                               No                          Sí   \n",
      "3                               No                          Sí   \n",
      "4                               Sí                          Sí   \n",
      "\n",
      "  Se siente arrepentido Reconoce que su comportamiento fue incorrecto  \\\n",
      "0                    Sí                                            No   \n",
      "1                    Sí                                            No   \n",
      "2                    No                                            Sí   \n",
      "3                    Sí                                            No   \n",
      "4                    Sí                                            Sí   \n",
      "\n",
      "  Premeditado o impulsivo Violencia física o amenazas  \\\n",
      "0               Impulsivo                          No   \n",
      "1               Impulsivo                          Sí   \n",
      "2             Premeditado                          No   \n",
      "3             Premeditado                          Sí   \n",
      "4             Premeditado                          Sí   \n",
      "\n",
      "  Actuó solo o con otras personas Edad inicio consumo pornográfico  \\\n",
      "0                            Solo                               14   \n",
      "1                            Solo                                7   \n",
      "2                            Solo                                6   \n",
      "3              Con otras personas                                7   \n",
      "4                            Solo                               12   \n",
      "\n",
      "  Contenido violento o explícito en material  \n",
      "0                                         Sí  \n",
      "1                                         No  \n",
      "2                                         No  \n",
      "3                                         Sí  \n",
      "4                                         Sí  \n",
      "\n",
      "[5 rows x 26 columns]\n"
     ]
    }
   ],
   "source": [
    "# Crear DataFrame\n",
    "df = pd.DataFrame(data)\n",
    "\n",
    "# Mostrar las primeras filas del dataset\n",
    "print(df.head())"
   ]
  },
  {
   "cell_type": "code",
   "execution_count": 9,
   "metadata": {},
   "outputs": [
    {
     "name": "stdout",
     "output_type": "stream",
     "text": [
      "Requirement already satisfied: openpyxl in d:\\anaconda\\anaconda3\\lib\\site-packages (3.0.10)\n",
      "Requirement already satisfied: et_xmlfile in d:\\anaconda\\anaconda3\\lib\\site-packages (from openpyxl) (1.1.0)\n",
      "Note: you may need to restart the kernel to use updated packages.\n"
     ]
    }
   ],
   "source": [
    "pip install openpyxl"
   ]
  },
  {
   "cell_type": "code",
   "execution_count": 11,
   "metadata": {},
   "outputs": [],
   "source": [
    "df.to_csv('BaseDatos.csv', index=False)"
   ]
  },
  {
   "cell_type": "code",
   "execution_count": 10,
   "metadata": {},
   "outputs": [
    {
     "ename": "ValueError",
     "evalue": "No engine for filetype: ''",
     "output_type": "error",
     "traceback": [
      "\u001b[1;31m---------------------------------------------------------------------------\u001b[0m",
      "\u001b[1;31mOptionError\u001b[0m                               Traceback (most recent call last)",
      "File \u001b[1;32md:\\anaconda\\anaconda3\\Lib\\site-packages\\pandas\\io\\excel\\_base.py:1111\u001b[0m, in \u001b[0;36mExcelWriter.__new__\u001b[1;34m(cls, path, engine, date_format, datetime_format, mode, storage_options, if_sheet_exists, engine_kwargs)\u001b[0m\n\u001b[0;32m   1110\u001b[0m \u001b[38;5;28;01mtry\u001b[39;00m:\n\u001b[1;32m-> 1111\u001b[0m     engine \u001b[38;5;241m=\u001b[39m config\u001b[38;5;241m.\u001b[39mget_option(\u001b[38;5;124mf\u001b[39m\u001b[38;5;124m\"\u001b[39m\u001b[38;5;124mio.excel.\u001b[39m\u001b[38;5;132;01m{\u001b[39;00mext\u001b[38;5;132;01m}\u001b[39;00m\u001b[38;5;124m.writer\u001b[39m\u001b[38;5;124m\"\u001b[39m, silent\u001b[38;5;241m=\u001b[39m\u001b[38;5;28;01mTrue\u001b[39;00m)\n\u001b[0;32m   1112\u001b[0m     \u001b[38;5;28;01mif\u001b[39;00m engine \u001b[38;5;241m==\u001b[39m \u001b[38;5;124m\"\u001b[39m\u001b[38;5;124mauto\u001b[39m\u001b[38;5;124m\"\u001b[39m:\n",
      "File \u001b[1;32md:\\anaconda\\anaconda3\\Lib\\site-packages\\pandas\\_config\\config.py:261\u001b[0m, in \u001b[0;36mCallableDynamicDoc.__call__\u001b[1;34m(self, *args, **kwds)\u001b[0m\n\u001b[0;32m    260\u001b[0m \u001b[38;5;28;01mdef\u001b[39;00m \u001b[38;5;21m__call__\u001b[39m(\u001b[38;5;28mself\u001b[39m, \u001b[38;5;241m*\u001b[39margs, \u001b[38;5;241m*\u001b[39m\u001b[38;5;241m*\u001b[39mkwds) \u001b[38;5;241m-\u001b[39m\u001b[38;5;241m>\u001b[39m T:\n\u001b[1;32m--> 261\u001b[0m     \u001b[38;5;28;01mreturn\u001b[39;00m \u001b[38;5;28mself\u001b[39m\u001b[38;5;241m.\u001b[39m\u001b[38;5;18m__func__\u001b[39m(\u001b[38;5;241m*\u001b[39margs, \u001b[38;5;241m*\u001b[39m\u001b[38;5;241m*\u001b[39mkwds)\n",
      "File \u001b[1;32md:\\anaconda\\anaconda3\\Lib\\site-packages\\pandas\\_config\\config.py:135\u001b[0m, in \u001b[0;36m_get_option\u001b[1;34m(pat, silent)\u001b[0m\n\u001b[0;32m    134\u001b[0m \u001b[38;5;28;01mdef\u001b[39;00m \u001b[38;5;21m_get_option\u001b[39m(pat: \u001b[38;5;28mstr\u001b[39m, silent: \u001b[38;5;28mbool\u001b[39m \u001b[38;5;241m=\u001b[39m \u001b[38;5;28;01mFalse\u001b[39;00m) \u001b[38;5;241m-\u001b[39m\u001b[38;5;241m>\u001b[39m Any:\n\u001b[1;32m--> 135\u001b[0m     key \u001b[38;5;241m=\u001b[39m _get_single_key(pat, silent)\n\u001b[0;32m    137\u001b[0m     \u001b[38;5;66;03m# walk the nested dict\u001b[39;00m\n",
      "File \u001b[1;32md:\\anaconda\\anaconda3\\Lib\\site-packages\\pandas\\_config\\config.py:121\u001b[0m, in \u001b[0;36m_get_single_key\u001b[1;34m(pat, silent)\u001b[0m\n\u001b[0;32m    120\u001b[0m         _warn_if_deprecated(pat)\n\u001b[1;32m--> 121\u001b[0m     \u001b[38;5;28;01mraise\u001b[39;00m OptionError(\u001b[38;5;124mf\u001b[39m\u001b[38;5;124m\"\u001b[39m\u001b[38;5;124mNo such keys(s): \u001b[39m\u001b[38;5;132;01m{\u001b[39;00m\u001b[38;5;28mrepr\u001b[39m(pat)\u001b[38;5;132;01m}\u001b[39;00m\u001b[38;5;124m\"\u001b[39m)\n\u001b[0;32m    122\u001b[0m \u001b[38;5;28;01mif\u001b[39;00m \u001b[38;5;28mlen\u001b[39m(keys) \u001b[38;5;241m>\u001b[39m \u001b[38;5;241m1\u001b[39m:\n",
      "\u001b[1;31mOptionError\u001b[0m: No such keys(s): 'io.excel..writer'",
      "\nThe above exception was the direct cause of the following exception:\n",
      "\u001b[1;31mValueError\u001b[0m                                Traceback (most recent call last)",
      "Cell \u001b[1;32mIn[10], line 1\u001b[0m\n\u001b[1;32m----> 1\u001b[0m df\u001b[38;5;241m.\u001b[39mto_excel(\u001b[38;5;124m'\u001b[39m\u001b[38;5;124mdf\u001b[39m\u001b[38;5;124m'\u001b[39m, index\u001b[38;5;241m=\u001b[39m\u001b[38;5;28;01mFalse\u001b[39;00m)\n",
      "File \u001b[1;32md:\\anaconda\\anaconda3\\Lib\\site-packages\\pandas\\core\\generic.py:2252\u001b[0m, in \u001b[0;36mNDFrame.to_excel\u001b[1;34m(self, excel_writer, sheet_name, na_rep, float_format, columns, header, index, index_label, startrow, startcol, engine, merge_cells, inf_rep, freeze_panes, storage_options)\u001b[0m\n\u001b[0;32m   2239\u001b[0m \u001b[38;5;28;01mfrom\u001b[39;00m \u001b[38;5;21;01mpandas\u001b[39;00m\u001b[38;5;21;01m.\u001b[39;00m\u001b[38;5;21;01mio\u001b[39;00m\u001b[38;5;21;01m.\u001b[39;00m\u001b[38;5;21;01mformats\u001b[39;00m\u001b[38;5;21;01m.\u001b[39;00m\u001b[38;5;21;01mexcel\u001b[39;00m \u001b[38;5;28;01mimport\u001b[39;00m ExcelFormatter\n\u001b[0;32m   2241\u001b[0m formatter \u001b[38;5;241m=\u001b[39m ExcelFormatter(\n\u001b[0;32m   2242\u001b[0m     df,\n\u001b[0;32m   2243\u001b[0m     na_rep\u001b[38;5;241m=\u001b[39mna_rep,\n\u001b[1;32m   (...)\u001b[0m\n\u001b[0;32m   2250\u001b[0m     inf_rep\u001b[38;5;241m=\u001b[39minf_rep,\n\u001b[0;32m   2251\u001b[0m )\n\u001b[1;32m-> 2252\u001b[0m formatter\u001b[38;5;241m.\u001b[39mwrite(\n\u001b[0;32m   2253\u001b[0m     excel_writer,\n\u001b[0;32m   2254\u001b[0m     sheet_name\u001b[38;5;241m=\u001b[39msheet_name,\n\u001b[0;32m   2255\u001b[0m     startrow\u001b[38;5;241m=\u001b[39mstartrow,\n\u001b[0;32m   2256\u001b[0m     startcol\u001b[38;5;241m=\u001b[39mstartcol,\n\u001b[0;32m   2257\u001b[0m     freeze_panes\u001b[38;5;241m=\u001b[39mfreeze_panes,\n\u001b[0;32m   2258\u001b[0m     engine\u001b[38;5;241m=\u001b[39mengine,\n\u001b[0;32m   2259\u001b[0m     storage_options\u001b[38;5;241m=\u001b[39mstorage_options,\n\u001b[0;32m   2260\u001b[0m )\n",
      "File \u001b[1;32md:\\anaconda\\anaconda3\\Lib\\site-packages\\pandas\\io\\formats\\excel.py:934\u001b[0m, in \u001b[0;36mExcelFormatter.write\u001b[1;34m(self, writer, sheet_name, startrow, startcol, freeze_panes, engine, storage_options)\u001b[0m\n\u001b[0;32m    930\u001b[0m     need_save \u001b[38;5;241m=\u001b[39m \u001b[38;5;28;01mFalse\u001b[39;00m\n\u001b[0;32m    931\u001b[0m \u001b[38;5;28;01melse\u001b[39;00m:\n\u001b[0;32m    932\u001b[0m     \u001b[38;5;66;03m# error: Cannot instantiate abstract class 'ExcelWriter' with abstract\u001b[39;00m\n\u001b[0;32m    933\u001b[0m     \u001b[38;5;66;03m# attributes 'engine', 'save', 'supported_extensions' and 'write_cells'\u001b[39;00m\n\u001b[1;32m--> 934\u001b[0m     writer \u001b[38;5;241m=\u001b[39m ExcelWriter(  \u001b[38;5;66;03m# type: ignore[abstract]\u001b[39;00m\n\u001b[0;32m    935\u001b[0m         writer, engine\u001b[38;5;241m=\u001b[39mengine, storage_options\u001b[38;5;241m=\u001b[39mstorage_options\n\u001b[0;32m    936\u001b[0m     )\n\u001b[0;32m    937\u001b[0m     need_save \u001b[38;5;241m=\u001b[39m \u001b[38;5;28;01mTrue\u001b[39;00m\n\u001b[0;32m    939\u001b[0m \u001b[38;5;28;01mtry\u001b[39;00m:\n",
      "File \u001b[1;32md:\\anaconda\\anaconda3\\Lib\\site-packages\\pandas\\io\\excel\\_base.py:1115\u001b[0m, in \u001b[0;36mExcelWriter.__new__\u001b[1;34m(cls, path, engine, date_format, datetime_format, mode, storage_options, if_sheet_exists, engine_kwargs)\u001b[0m\n\u001b[0;32m   1113\u001b[0m             engine \u001b[38;5;241m=\u001b[39m get_default_engine(ext, mode\u001b[38;5;241m=\u001b[39m\u001b[38;5;124m\"\u001b[39m\u001b[38;5;124mwriter\u001b[39m\u001b[38;5;124m\"\u001b[39m)\n\u001b[0;32m   1114\u001b[0m     \u001b[38;5;28;01mexcept\u001b[39;00m \u001b[38;5;167;01mKeyError\u001b[39;00m \u001b[38;5;28;01mas\u001b[39;00m err:\n\u001b[1;32m-> 1115\u001b[0m         \u001b[38;5;28;01mraise\u001b[39;00m \u001b[38;5;167;01mValueError\u001b[39;00m(\u001b[38;5;124mf\u001b[39m\u001b[38;5;124m\"\u001b[39m\u001b[38;5;124mNo engine for filetype: \u001b[39m\u001b[38;5;124m'\u001b[39m\u001b[38;5;132;01m{\u001b[39;00mext\u001b[38;5;132;01m}\u001b[39;00m\u001b[38;5;124m'\u001b[39m\u001b[38;5;124m\"\u001b[39m) \u001b[38;5;28;01mfrom\u001b[39;00m \u001b[38;5;21;01merr\u001b[39;00m\n\u001b[0;32m   1117\u001b[0m \u001b[38;5;66;03m# for mypy\u001b[39;00m\n\u001b[0;32m   1118\u001b[0m \u001b[38;5;28;01massert\u001b[39;00m engine \u001b[38;5;129;01mis\u001b[39;00m \u001b[38;5;129;01mnot\u001b[39;00m \u001b[38;5;28;01mNone\u001b[39;00m\n",
      "\u001b[1;31mValueError\u001b[0m: No engine for filetype: ''"
     ]
    }
   ],
   "source": [
    "df.to_excel('df', index=False)\n"
   ]
  }
 ],
 "metadata": {
  "kernelspec": {
   "display_name": "base",
   "language": "python",
   "name": "python3"
  },
  "language_info": {
   "codemirror_mode": {
    "name": "ipython",
    "version": 3
   },
   "file_extension": ".py",
   "mimetype": "text/x-python",
   "name": "python",
   "nbconvert_exporter": "python",
   "pygments_lexer": "ipython3",
   "version": "3.11.5"
  }
 },
 "nbformat": 4,
 "nbformat_minor": 2
}
