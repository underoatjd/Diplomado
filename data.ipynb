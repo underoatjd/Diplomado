{
 "cells": [
  {
   "cell_type": "code",
   "execution_count": 3,
   "metadata": {},
   "outputs": [
    {
     "name": "stdout",
     "output_type": "stream",
     "text": [
      "Collecting faker\n",
      "  Obtaining dependency information for faker from https://files.pythonhosted.org/packages/b5/e6/403ba67c3d0ab4b31030f2ff22428f7a0cfe2010ce4bf9579e1ebdf808fa/Faker-30.3.0-py3-none-any.whl.metadata\n",
      "  Downloading Faker-30.3.0-py3-none-any.whl.metadata (15 kB)\n",
      "Requirement already satisfied: python-dateutil>=2.4 in d:\\anaconda\\anaconda3\\lib\\site-packages (from faker) (2.8.2)\n",
      "Requirement already satisfied: typing-extensions in d:\\anaconda\\anaconda3\\lib\\site-packages (from faker) (4.7.1)\n",
      "Requirement already satisfied: six>=1.5 in d:\\anaconda\\anaconda3\\lib\\site-packages (from python-dateutil>=2.4->faker) (1.16.0)\n",
      "Downloading Faker-30.3.0-py3-none-any.whl (1.8 MB)\n",
      "   ---------------------------------------- 0.0/1.8 MB ? eta -:--:--\n",
      "   ---- ----------------------------------- 0.2/1.8 MB 6.7 MB/s eta 0:00:01\n",
      "   -------------------------------- ------- 1.5/1.8 MB 19.2 MB/s eta 0:00:01\n",
      "   ---------------------------------------- 1.8/1.8 MB 16.6 MB/s eta 0:00:00\n",
      "Installing collected packages: faker\n",
      "Successfully installed faker-30.3.0\n",
      "Note: you may need to restart the kernel to use updated packages.\n"
     ]
    }
   ],
   "source": [
    "pip install faker"
   ]
  },
  {
   "cell_type": "code",
   "execution_count": 3,
   "metadata": {},
   "outputs": [],
   "source": [
    "import pandas as pd\n",
    "import random\n",
    "from faker import Faker\n",
    "import numpy as np"
   ]
  },
  {
   "cell_type": "code",
   "execution_count": 4,
   "metadata": {},
   "outputs": [],
   "source": [
    "# Inicializar Faker para generar datos ficticios\n",
    "fake = Faker()\n",
    "\n",
    "# Número de filas\n",
    "num_rows = 5000"
   ]
  },
  {
   "cell_type": "code",
   "execution_count": 7,
   "metadata": {},
   "outputs": [],
   "source": [
    "# Generar datos aleatorios para cada columna\n",
    "data = {\n",
    "    \"Edad\": np.random.randint(1, 18, num_rows),\n",
    "    \"Fecha de nacimiento\": [fake.date_of_birth(minimum_age=1, maximum_age=18) for _ in range(num_rows)],\n",
    "    \"Sexo\": [random.choice([\"Masculino\", \"Femenino\", \"Otro\"]) for _ in range(num_rows)],\n",
    "    \"Lugar de residencia\": [fake.city() for _ in range(num_rows)],\n",
    "    \n",
    "    \"Composición del hogar\": [random.choice([\"Nuclear\", \"Monoparental\", \"Extendida\"]) for _ in range(num_rows)],\n",
    "    \"Grado de consanguinidad\": [random.choice([\"Padres\", \"Hermanos\", \"Tios\", \"Abuelos\", \"Otros familiares\"]) for _ in range(num_rows)],\n",
    "    \"Número de personas con quienes vive\": np.random.randint(1, 8, num_rows),\n",
    "    \"Profesión de los padres\": [random.choice([\"Profesor\",\"Profesional\", \"Obrero\", \"Desempleado\", \"Empresario\", \"Empleado público\"]) for _ in range(num_rows)],\n",
    "    \n",
    "    \"Nivel escolar\": [random.choice([\"Primaria\", \"Secundaria\", \"Técnico\", \"Universitario\"]) for _ in range(num_rows)],\n",
    "    \"Rendimiento académico promedio\": np.random.randint(1, 10, num_rows),\n",
    "    \"Antecedentes de maltrato familiar o escolar\": [random.choice([\"Sí\", \"No\"]) for _ in range(num_rows)],\n",
    "    \"Participa en actividades extracurriculares\": [random.choice([\"Sí\", \"No\"]) for _ in range(num_rows)],\n",
    "    \n",
    "    \"Usa redes sociales activamente\": [random.choice([\"Sí\", \"No\"]) for _ in range(num_rows)],\n",
    "    \"Contactó de forma inapropiada en redes\": [random.choice([\"Sí\", \"No\"]) for _ in range(num_rows)],\n",
    "    \n",
    "    \"Involucrado en otros incidentes de agresión\": [random.choice([\"Sí\", \"No\"]) for _ in range(num_rows)],\n",
    "    \"Conocía a la víctima\": [random.choice([\"Sí\", \"No\"]) for _ in range(num_rows)],\n",
    "    \"Antecedentes penales o disciplinarios\": [random.choice([\"Sí\", \"No\"]) for _ in range(num_rows)],\n",
    "    \n",
    "    \"Trastorno psicológico o adicción\": [random.choice([\"Sí\", \"No\"]) for _ in range(num_rows)],\n",
    "    \"Atención psicológica previa\": [random.choice([\"Sí\", \"No\"]) for _ in range(num_rows)],\n",
    "    \"Se siente arrepentido\": [random.choice([\"Sí\", \"No\"]) for _ in range(num_rows)],\n",
    "    \"Reconoce que su comportamiento fue incorrecto\": [random.choice([\"Sí\", \"No\"]) for _ in range(num_rows)],\n",
    "    \n",
    "    \"Premeditado o impulsivo\": [random.choice([\"Premeditado\", \"Impulsivo\"]) for _ in range(num_rows)],\n",
    "    \"Violencia física o amenazas\": [random.choice([\"Sí\", \"No\"]) for _ in range(num_rows)],\n",
    "    \"Actuó solo o con otras personas\": [random.choice([\"Solo\", \"Con otras personas\"]) for _ in range(num_rows)],\n",
    "    \n",
    "    \"Edad inicio consumo pornográfico\": np.random.randint(6, 15, num_rows),\n",
    "    \"Contenido violento o explícito en material\": [random.choice([\"Sí\", \"No\"]) for _ in range(num_rows)],\n",
    "}"
   ]
  },
  {
   "cell_type": "code",
   "execution_count": 8,
   "metadata": {},
   "outputs": [
    {
     "name": "stdout",
     "output_type": "stream",
     "text": [
      "   Edad Fecha de nacimiento       Sexo Lugar de residencia  \\\n",
      "0    14          2007-01-26   Femenino        South Rachel   \n",
      "1    16          2022-02-09   Femenino     South Juanville   \n",
      "2    13          2022-08-30   Femenino         Barnesville   \n",
      "3     4          2023-07-04  Masculino           Solisberg   \n",
      "4     9          2017-08-24  Masculino      South Jennifer   \n",
      "\n",
      "  Composición del hogar Grado de consanguinidad  \\\n",
      "0          Monoparental                    Tios   \n",
      "1          Monoparental        Otros familiares   \n",
      "2             Extendida        Otros familiares   \n",
      "3             Extendida        Otros familiares   \n",
      "4             Extendida                    Tios   \n",
      "\n",
      "   Número de personas con quienes vive Profesión de los padres  Nivel escolar  \\\n",
      "0                                    4             Desempleado     Secundaria   \n",
      "1                                    1                  Obrero        Técnico   \n",
      "2                                    6                Profesor  Universitario   \n",
      "3                                    1                Profesor     Secundaria   \n",
      "4                                    1              Empresario     Secundaria   \n",
      "\n",
      "   Rendimiento académico promedio  ... Antecedentes penales o disciplinarios  \\\n",
      "0                               5  ...                                    No   \n",
      "1                               8  ...                                    Sí   \n",
      "2                               4  ...                                    Sí   \n",
      "3                               1  ...                                    No   \n",
      "4                               3  ...                                    Sí   \n",
      "\n",
      "  Trastorno psicológico o adicción Atención psicológica previa  \\\n",
      "0                               Sí                          Sí   \n",
      "1                               No                          No   \n",
      "2                               No                          Sí   \n",
      "3                               No                          Sí   \n",
      "4                               Sí                          Sí   \n",
      "\n",
      "  Se siente arrepentido Reconoce que su comportamiento fue incorrecto  \\\n",
      "0                    Sí                                            No   \n",
      "1                    Sí                                            No   \n",
      "2                    No                                            Sí   \n",
      "3                    Sí                                            No   \n",
      "4                    Sí                                            Sí   \n",
      "\n",
      "  Premeditado o impulsivo Violencia física o amenazas  \\\n",
      "0               Impulsivo                          No   \n",
      "1               Impulsivo                          Sí   \n",
      "2             Premeditado                          No   \n",
      "3             Premeditado                          Sí   \n",
      "4             Premeditado                          Sí   \n",
      "\n",
      "  Actuó solo o con otras personas Edad inicio consumo pornográfico  \\\n",
      "0                            Solo                               14   \n",
      "1                            Solo                                7   \n",
      "2                            Solo                                6   \n",
      "3              Con otras personas                                7   \n",
      "4                            Solo                               12   \n",
      "\n",
      "  Contenido violento o explícito en material  \n",
      "0                                         Sí  \n",
      "1                                         No  \n",
      "2                                         No  \n",
      "3                                         Sí  \n",
      "4                                         Sí  \n",
      "\n",
      "[5 rows x 26 columns]\n"
     ]
    }
   ],
   "source": [
    "# Crear DataFrame\n",
    "df = pd.DataFrame(data)\n",
    "\n",
    "# Mostrar las primeras filas del dataset\n",
    "print(df.head())"
   ]
  },
  {
   "cell_type": "code",
   "execution_count": 9,
   "metadata": {},
   "outputs": [
    {
     "name": "stdout",
     "output_type": "stream",
     "text": [
      "Requirement already satisfied: openpyxl in d:\\anaconda\\anaconda3\\lib\\site-packages (3.0.10)\n",
      "Requirement already satisfied: et_xmlfile in d:\\anaconda\\anaconda3\\lib\\site-packages (from openpyxl) (1.1.0)\n",
      "Note: you may need to restart the kernel to use updated packages.\n"
     ]
    }
   ],
   "source": [
    "pip install openpyxl"
   ]
  },
  {
   "cell_type": "code",
   "execution_count": 8,
   "metadata": {},
   "outputs": [
    {
     "ename": "NameError",
     "evalue": "name 'df' is not defined",
     "output_type": "error",
     "traceback": [
      "\u001b[1;31m---------------------------------------------------------------------------\u001b[0m",
      "\u001b[1;31mNameError\u001b[0m                                 Traceback (most recent call last)",
      "Cell \u001b[1;32mIn[8], line 1\u001b[0m\n\u001b[1;32m----> 1\u001b[0m df\u001b[38;5;241m.\u001b[39mto_csv(\u001b[38;5;124m'\u001b[39m\u001b[38;5;124mBaseDatos.csv\u001b[39m\u001b[38;5;124m'\u001b[39m, index\u001b[38;5;241m=\u001b[39m\u001b[38;5;28;01mFalse\u001b[39;00m)\n",
      "\u001b[1;31mNameError\u001b[0m: name 'df' is not defined"
     ]
    }
   ],
   "source": [
    "df.to_csv('BaseDatos.csv', index=False)"
   ]
  },
  {
   "cell_type": "code",
   "execution_count": 7,
   "metadata": {},
   "outputs": [
    {
     "ename": "UnicodeDecodeError",
     "evalue": "'utf-8' codec can't decode byte 0xb3 in position 331: invalid start byte",
     "output_type": "error",
     "traceback": [
      "\u001b[1;31m---------------------------------------------------------------------------\u001b[0m",
      "\u001b[1;31mUnicodeDecodeError\u001b[0m                        Traceback (most recent call last)",
      "Cell \u001b[1;32mIn[7], line 1\u001b[0m\n\u001b[1;32m----> 1\u001b[0m df \u001b[38;5;241m=\u001b[39m pd\u001b[38;5;241m.\u001b[39mread_csv(\u001b[38;5;124m\"\u001b[39m\u001b[38;5;124mBaseDatos.csv\u001b[39m\u001b[38;5;124m\"\u001b[39m)\n\u001b[0;32m      2\u001b[0m \u001b[38;5;28mprint\u001b[39m(df)\n",
      "File \u001b[1;32md:\\anaconda\\anaconda3\\Lib\\site-packages\\pandas\\io\\parsers\\readers.py:912\u001b[0m, in \u001b[0;36mread_csv\u001b[1;34m(filepath_or_buffer, sep, delimiter, header, names, index_col, usecols, dtype, engine, converters, true_values, false_values, skipinitialspace, skiprows, skipfooter, nrows, na_values, keep_default_na, na_filter, verbose, skip_blank_lines, parse_dates, infer_datetime_format, keep_date_col, date_parser, date_format, dayfirst, cache_dates, iterator, chunksize, compression, thousands, decimal, lineterminator, quotechar, quoting, doublequote, escapechar, comment, encoding, encoding_errors, dialect, on_bad_lines, delim_whitespace, low_memory, memory_map, float_precision, storage_options, dtype_backend)\u001b[0m\n\u001b[0;32m    899\u001b[0m kwds_defaults \u001b[38;5;241m=\u001b[39m _refine_defaults_read(\n\u001b[0;32m    900\u001b[0m     dialect,\n\u001b[0;32m    901\u001b[0m     delimiter,\n\u001b[1;32m   (...)\u001b[0m\n\u001b[0;32m    908\u001b[0m     dtype_backend\u001b[38;5;241m=\u001b[39mdtype_backend,\n\u001b[0;32m    909\u001b[0m )\n\u001b[0;32m    910\u001b[0m kwds\u001b[38;5;241m.\u001b[39mupdate(kwds_defaults)\n\u001b[1;32m--> 912\u001b[0m \u001b[38;5;28;01mreturn\u001b[39;00m _read(filepath_or_buffer, kwds)\n",
      "File \u001b[1;32md:\\anaconda\\anaconda3\\Lib\\site-packages\\pandas\\io\\parsers\\readers.py:577\u001b[0m, in \u001b[0;36m_read\u001b[1;34m(filepath_or_buffer, kwds)\u001b[0m\n\u001b[0;32m    574\u001b[0m _validate_names(kwds\u001b[38;5;241m.\u001b[39mget(\u001b[38;5;124m\"\u001b[39m\u001b[38;5;124mnames\u001b[39m\u001b[38;5;124m\"\u001b[39m, \u001b[38;5;28;01mNone\u001b[39;00m))\n\u001b[0;32m    576\u001b[0m \u001b[38;5;66;03m# Create the parser.\u001b[39;00m\n\u001b[1;32m--> 577\u001b[0m parser \u001b[38;5;241m=\u001b[39m TextFileReader(filepath_or_buffer, \u001b[38;5;241m*\u001b[39m\u001b[38;5;241m*\u001b[39mkwds)\n\u001b[0;32m    579\u001b[0m \u001b[38;5;28;01mif\u001b[39;00m chunksize \u001b[38;5;129;01mor\u001b[39;00m iterator:\n\u001b[0;32m    580\u001b[0m     \u001b[38;5;28;01mreturn\u001b[39;00m parser\n",
      "File \u001b[1;32md:\\anaconda\\anaconda3\\Lib\\site-packages\\pandas\\io\\parsers\\readers.py:1407\u001b[0m, in \u001b[0;36mTextFileReader.__init__\u001b[1;34m(self, f, engine, **kwds)\u001b[0m\n\u001b[0;32m   1404\u001b[0m     \u001b[38;5;28mself\u001b[39m\u001b[38;5;241m.\u001b[39moptions[\u001b[38;5;124m\"\u001b[39m\u001b[38;5;124mhas_index_names\u001b[39m\u001b[38;5;124m\"\u001b[39m] \u001b[38;5;241m=\u001b[39m kwds[\u001b[38;5;124m\"\u001b[39m\u001b[38;5;124mhas_index_names\u001b[39m\u001b[38;5;124m\"\u001b[39m]\n\u001b[0;32m   1406\u001b[0m \u001b[38;5;28mself\u001b[39m\u001b[38;5;241m.\u001b[39mhandles: IOHandles \u001b[38;5;241m|\u001b[39m \u001b[38;5;28;01mNone\u001b[39;00m \u001b[38;5;241m=\u001b[39m \u001b[38;5;28;01mNone\u001b[39;00m\n\u001b[1;32m-> 1407\u001b[0m \u001b[38;5;28mself\u001b[39m\u001b[38;5;241m.\u001b[39m_engine \u001b[38;5;241m=\u001b[39m \u001b[38;5;28mself\u001b[39m\u001b[38;5;241m.\u001b[39m_make_engine(f, \u001b[38;5;28mself\u001b[39m\u001b[38;5;241m.\u001b[39mengine)\n",
      "File \u001b[1;32md:\\anaconda\\anaconda3\\Lib\\site-packages\\pandas\\io\\parsers\\readers.py:1679\u001b[0m, in \u001b[0;36mTextFileReader._make_engine\u001b[1;34m(self, f, engine)\u001b[0m\n\u001b[0;32m   1676\u001b[0m     \u001b[38;5;28;01mraise\u001b[39;00m \u001b[38;5;167;01mValueError\u001b[39;00m(msg)\n\u001b[0;32m   1678\u001b[0m \u001b[38;5;28;01mtry\u001b[39;00m:\n\u001b[1;32m-> 1679\u001b[0m     \u001b[38;5;28;01mreturn\u001b[39;00m mapping[engine](f, \u001b[38;5;241m*\u001b[39m\u001b[38;5;241m*\u001b[39m\u001b[38;5;28mself\u001b[39m\u001b[38;5;241m.\u001b[39moptions)\n\u001b[0;32m   1680\u001b[0m \u001b[38;5;28;01mexcept\u001b[39;00m \u001b[38;5;167;01mException\u001b[39;00m:\n\u001b[0;32m   1681\u001b[0m     \u001b[38;5;28;01mif\u001b[39;00m \u001b[38;5;28mself\u001b[39m\u001b[38;5;241m.\u001b[39mhandles \u001b[38;5;129;01mis\u001b[39;00m \u001b[38;5;129;01mnot\u001b[39;00m \u001b[38;5;28;01mNone\u001b[39;00m:\n",
      "File \u001b[1;32md:\\anaconda\\anaconda3\\Lib\\site-packages\\pandas\\io\\parsers\\c_parser_wrapper.py:93\u001b[0m, in \u001b[0;36mCParserWrapper.__init__\u001b[1;34m(self, src, **kwds)\u001b[0m\n\u001b[0;32m     90\u001b[0m \u001b[38;5;28;01mif\u001b[39;00m kwds[\u001b[38;5;124m\"\u001b[39m\u001b[38;5;124mdtype_backend\u001b[39m\u001b[38;5;124m\"\u001b[39m] \u001b[38;5;241m==\u001b[39m \u001b[38;5;124m\"\u001b[39m\u001b[38;5;124mpyarrow\u001b[39m\u001b[38;5;124m\"\u001b[39m:\n\u001b[0;32m     91\u001b[0m     \u001b[38;5;66;03m# Fail here loudly instead of in cython after reading\u001b[39;00m\n\u001b[0;32m     92\u001b[0m     import_optional_dependency(\u001b[38;5;124m\"\u001b[39m\u001b[38;5;124mpyarrow\u001b[39m\u001b[38;5;124m\"\u001b[39m)\n\u001b[1;32m---> 93\u001b[0m \u001b[38;5;28mself\u001b[39m\u001b[38;5;241m.\u001b[39m_reader \u001b[38;5;241m=\u001b[39m parsers\u001b[38;5;241m.\u001b[39mTextReader(src, \u001b[38;5;241m*\u001b[39m\u001b[38;5;241m*\u001b[39mkwds)\n\u001b[0;32m     95\u001b[0m \u001b[38;5;28mself\u001b[39m\u001b[38;5;241m.\u001b[39munnamed_cols \u001b[38;5;241m=\u001b[39m \u001b[38;5;28mself\u001b[39m\u001b[38;5;241m.\u001b[39m_reader\u001b[38;5;241m.\u001b[39munnamed_cols\n\u001b[0;32m     97\u001b[0m \u001b[38;5;66;03m# error: Cannot determine type of 'names'\u001b[39;00m\n",
      "File \u001b[1;32md:\\anaconda\\anaconda3\\Lib\\site-packages\\pandas\\_libs\\parsers.pyx:550\u001b[0m, in \u001b[0;36mpandas._libs.parsers.TextReader.__cinit__\u001b[1;34m()\u001b[0m\n",
      "File \u001b[1;32md:\\anaconda\\anaconda3\\Lib\\site-packages\\pandas\\_libs\\parsers.pyx:639\u001b[0m, in \u001b[0;36mpandas._libs.parsers.TextReader._get_header\u001b[1;34m()\u001b[0m\n",
      "File \u001b[1;32md:\\anaconda\\anaconda3\\Lib\\site-packages\\pandas\\_libs\\parsers.pyx:850\u001b[0m, in \u001b[0;36mpandas._libs.parsers.TextReader._tokenize_rows\u001b[1;34m()\u001b[0m\n",
      "File \u001b[1;32md:\\anaconda\\anaconda3\\Lib\\site-packages\\pandas\\_libs\\parsers.pyx:861\u001b[0m, in \u001b[0;36mpandas._libs.parsers.TextReader._check_tokenize_status\u001b[1;34m()\u001b[0m\n",
      "File \u001b[1;32md:\\anaconda\\anaconda3\\Lib\\site-packages\\pandas\\_libs\\parsers.pyx:2021\u001b[0m, in \u001b[0;36mpandas._libs.parsers.raise_parser_error\u001b[1;34m()\u001b[0m\n",
      "\u001b[1;31mUnicodeDecodeError\u001b[0m: 'utf-8' codec can't decode byte 0xb3 in position 331: invalid start byte"
     ]
    }
   ],
   "source": [
    "df = pd.read_csv(\"BaseDatos.csv\")\n",
    "print(df)"
   ]
  }
 ],
 "metadata": {
  "kernelspec": {
   "display_name": "base",
   "language": "python",
   "name": "python3"
  },
  "language_info": {
   "codemirror_mode": {
    "name": "ipython",
    "version": 3
   },
   "file_extension": ".py",
   "mimetype": "text/x-python",
   "name": "python",
   "nbconvert_exporter": "python",
   "pygments_lexer": "ipython3",
   "version": "3.11.5"
  }
 },
 "nbformat": 4,
 "nbformat_minor": 2
}
