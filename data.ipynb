{
 "cells": [
  {
   "cell_type": "code",
   "execution_count": 2,
   "metadata": {},
   "outputs": [
    {
     "name": "stdout",
     "output_type": "stream",
     "text": [
      "Requirement already satisfied: faker in d:\\anaconda\\anaconda3\\lib\\site-packages (30.3.0)\n",
      "Requirement already satisfied: python-dateutil>=2.4 in d:\\anaconda\\anaconda3\\lib\\site-packages (from faker) (2.8.2)\n",
      "Requirement already satisfied: typing-extensions in d:\\anaconda\\anaconda3\\lib\\site-packages (from faker) (4.7.1)\n",
      "Requirement already satisfied: six>=1.5 in d:\\anaconda\\anaconda3\\lib\\site-packages (from python-dateutil>=2.4->faker) (1.16.0)\n",
      "Note: you may need to restart the kernel to use updated packages.\n"
     ]
    }
   ],
   "source": [
    "pip install faker"
   ]
  },
  {
   "cell_type": "code",
   "execution_count": 3,
   "metadata": {},
   "outputs": [],
   "source": [
    "import pandas as pd\n",
    "import random\n",
    "from faker import Faker\n",
    "import numpy as np"
   ]
  },
  {
   "cell_type": "code",
   "execution_count": 4,
   "metadata": {},
   "outputs": [],
   "source": [
    "# Inicializar Faker para generar datos ficticios\n",
    "fake = Faker()\n",
    "\n",
    "# Número de filas\n",
    "num_rows = 5000"
   ]
  },
  {
   "cell_type": "code",
   "execution_count": 5,
   "metadata": {},
   "outputs": [],
   "source": [
    "df = pd.read_csv(\"BaseDatos.csv\")"
   ]
  },
  {
   "cell_type": "code",
   "execution_count": 7,
   "metadata": {},
   "outputs": [],
   "source": [
    "# Generar datos aleatorios para cada columna\n",
    "data = {\n",
    "    \"Edad\": np.random.randint(1, 18, num_rows),\n",
    "    \"Fecha de nacimiento\": [fake.date_of_birth(minimum_age=1, maximum_age=18) for _ in range(num_rows)],\n",
    "    \"Sexo\": [random.choice([\"Masculino\", \"Femenino\", \"Otro\"]) for _ in range(num_rows)],\n",
    "    \"Lugar de residencia\": [fake.city() for _ in range(num_rows)],\n",
    "    \n",
    "    \"Composición del hogar\": [random.choice([\"Nuclear\", \"Monoparental\", \"Extendida\"]) for _ in range(num_rows)],\n",
    "    \"Grado de consanguinidad\": [random.choice([\"Padres\", \"Hermanos\", \"Tios\", \"Abuelos\", \"Otros familiares\"]) for _ in range(num_rows)],\n",
    "    \"Número de personas con quienes vive\": np.random.randint(1, 8, num_rows),\n",
    "    \"Profesión de los padres\": [random.choice([\"Profesor\",\"Profesional\", \"Obrero\", \"Desempleado\", \"Empresario\", \"Empleado público\"]) for _ in range(num_rows)],\n",
    "    \n",
    "    \"Nivel escolar\": [random.choice([\"Primaria\", \"Secundaria\", \"Técnico\", \"Universitario\"]) for _ in range(num_rows)],\n",
    "    \"Rendimiento académico promedio\": np.random.randint(1, 10, num_rows),\n",
    "    \"Antecedentes de maltrato familiar o escolar\": [random.choice([\"Sí\", \"No\"]) for _ in range(num_rows)],\n",
    "    \"Participa en actividades extracurriculares\": [random.choice([\"Sí\", \"No\"]) for _ in range(num_rows)],\n",
    "    \n",
    "    \"Usa redes sociales activamente\": [random.choice([\"Sí\", \"No\"]) for _ in range(num_rows)],\n",
    "    \"Contactó de forma inapropiada en redes\": [random.choice([\"Sí\", \"No\"]) for _ in range(num_rows)],\n",
    "    \n",
    "    \"Involucrado en otros incidentes de agresión\": [random.choice([\"Sí\", \"No\"]) for _ in range(num_rows)],\n",
    "    \"Conocía a la víctima\": [random.choice([\"Sí\", \"No\"]) for _ in range(num_rows)],\n",
    "    \"Antecedentes penales o disciplinarios\": [random.choice([\"Sí\", \"No\"]) for _ in range(num_rows)],\n",
    "    \n",
    "    \"Trastorno psicológico o adicción\": [random.choice([\"Sí\", \"No\"]) for _ in range(num_rows)],\n",
    "    \"Atención psicológica previa\": [random.choice([\"Sí\", \"No\"]) for _ in range(num_rows)],\n",
    "    \"Se siente arrepentido\": [random.choice([\"Sí\", \"No\"]) for _ in range(num_rows)],\n",
    "    \"Reconoce que su comportamiento fue incorrecto\": [random.choice([\"Sí\", \"No\"]) for _ in range(num_rows)],\n",
    "    \n",
    "    \"Premeditado o impulsivo\": [random.choice([\"Premeditado\", \"Impulsivo\"]) for _ in range(num_rows)],\n",
    "    \"Violencia física o amenazas\": [random.choice([\"Sí\", \"No\"]) for _ in range(num_rows)],\n",
    "    \"Actuó solo o con otras personas\": [random.choice([\"Solo\", \"Con otras personas\"]) for _ in range(num_rows)],\n",
    "    \n",
    "    \"Edad inicio consumo pornográfico\": np.random.randint(6, 15, num_rows),\n",
    "    \"Contenido violento o explícito en material\": [random.choice([\"Sí\", \"No\"]) for _ in range(num_rows)],\n",
    "}"
   ]
  },
  {
   "cell_type": "code",
   "execution_count": 6,
   "metadata": {},
   "outputs": [
    {
     "name": "stdout",
     "output_type": "stream",
     "text": [
      "   Edad Fecha de nacimiento       Sexo Lugar de residencia  \\\n",
      "0    14          26/01/2007   Femenino        South Rachel   \n",
      "1    16           9/02/2022   Femenino     South Juanville   \n",
      "2    13          30/08/2022   Femenino         Barnesville   \n",
      "3     4           4/07/2023  Masculino           Solisberg   \n",
      "4     9          24/08/2017  Masculino      South Jennifer   \n",
      "\n",
      "  Composicion del hogar Grado de consanguinidad  \\\n",
      "0          Monoparental                    Tios   \n",
      "1          Monoparental        Otros familiares   \n",
      "2             Extendida        Otros familiares   \n",
      "3             Extendida        Otros familiares   \n",
      "4             Extendida                    Tios   \n",
      "\n",
      "   Numero de personas con quienes vive Profesion de los padres  Nivel escolar  \\\n",
      "0                                    4             Desempleado     Secundaria   \n",
      "1                                    1                  Obrero        Tecnico   \n",
      "2                                    6                Profesor  Universitario   \n",
      "3                                    1                Profesor     Secundaria   \n",
      "4                                    1              Empresario     Secundaria   \n",
      "\n",
      "   Rendimiento academico promedio  ...  Antecedentes penales o disciplinarios  \\\n",
      "0                               5  ...                                      0   \n",
      "1                               8  ...                                      1   \n",
      "2                               4  ...                                      1   \n",
      "3                               1  ...                                      0   \n",
      "4                               3  ...                                      1   \n",
      "\n",
      "   Trastorno psicologico o adiccion  Atencion psicologica previa  \\\n",
      "0                                 1                            1   \n",
      "1                                 0                            0   \n",
      "2                                 0                            1   \n",
      "3                                 0                            1   \n",
      "4                                 1                            1   \n",
      "\n",
      "   Se siente arrepentido  Reconoce que su comportamiento fue incorrecto  \\\n",
      "0                      1                                              0   \n",
      "1                      1                                              0   \n",
      "2                      0                                              1   \n",
      "3                      1                                              0   \n",
      "4                      1                                              1   \n",
      "\n",
      "   Violencia fisica o amenazas  Contenido violento o explicito en material  \\\n",
      "0                            0                                           1   \n",
      "1                            1                                           0   \n",
      "2                            0                                           0   \n",
      "3                            1                                           1   \n",
      "4                            1                                           1   \n",
      "\n",
      "   Premeditado o impulsivo  Actuo solo o con otras personas  \\\n",
      "0                Impulsivo                             Solo   \n",
      "1                Impulsivo                             Solo   \n",
      "2              Premeditado                             Solo   \n",
      "3              Premeditado               Con otras personas   \n",
      "4              Premeditado                             Solo   \n",
      "\n",
      "   Edad inicio consumo pornografico  \n",
      "0                                14  \n",
      "1                                 7  \n",
      "2                                 6  \n",
      "3                                 7  \n",
      "4                                12  \n",
      "\n",
      "[5 rows x 26 columns]\n"
     ]
    }
   ],
   "source": [
    "print(df.head())"
   ]
  }
 ],
 "metadata": {
  "kernelspec": {
   "display_name": "base",
   "language": "python",
   "name": "python3"
  },
  "language_info": {
   "codemirror_mode": {
    "name": "ipython",
    "version": 3
   },
   "file_extension": ".py",
   "mimetype": "text/x-python",
   "name": "python",
   "nbconvert_exporter": "python",
   "pygments_lexer": "ipython3",
   "version": "3.11.5"
  }
 },
 "nbformat": 4,
 "nbformat_minor": 2
}
